{
 "cells": [
  {
   "cell_type": "code",
   "execution_count": 2,
   "metadata": {},
   "outputs": [],
   "source": [
    "import selenium\n",
    "# pip install selenium\n",
    "from selenium import webdriver\n",
    "import time"
   ]
  },
  {
   "cell_type": "code",
   "execution_count": 16,
   "metadata": {},
   "outputs": [
    {
     "ename": "KeyboardInterrupt",
     "evalue": "",
     "output_type": "error",
     "traceback": [
      "\u001b[0;31m---------------------------------------------------------------------------\u001b[0m",
      "\u001b[0;31mKeyboardInterrupt\u001b[0m                         Traceback (most recent call last)",
      "\u001b[0;32m<ipython-input-16-6a633f957d69>\u001b[0m in \u001b[0;36m<module>\u001b[0;34m\u001b[0m\n\u001b[1;32m     31\u001b[0m     \u001b[0mapplyButtons\u001b[0m \u001b[0;34m=\u001b[0m \u001b[0mdriver\u001b[0m\u001b[0;34m.\u001b[0m\u001b[0mfind_elements_by_xpath\u001b[0m\u001b[0;34m(\u001b[0m\u001b[0;34m'//button[text()=\"Apply\"]'\u001b[0m\u001b[0;34m)\u001b[0m\u001b[0;34m\u001b[0m\u001b[0;34m\u001b[0m\u001b[0m\n\u001b[1;32m     32\u001b[0m \u001b[0;34m\u001b[0m\u001b[0m\n\u001b[0;32m---> 33\u001b[0;31m     \u001b[0mapply_jobs_in_current_page\u001b[0m\u001b[0;34m(\u001b[0m\u001b[0mapplyButtons\u001b[0m\u001b[0;34m)\u001b[0m\u001b[0;34m\u001b[0m\u001b[0;34m\u001b[0m\u001b[0m\n\u001b[0m\u001b[1;32m     34\u001b[0m     \u001b[0mtime\u001b[0m\u001b[0;34m.\u001b[0m\u001b[0msleep\u001b[0m\u001b[0;34m(\u001b[0m\u001b[0;36m1\u001b[0m\u001b[0;34m)\u001b[0m\u001b[0;34m\u001b[0m\u001b[0;34m\u001b[0m\u001b[0m\n\u001b[1;32m     35\u001b[0m \u001b[0;34m\u001b[0m\u001b[0m\n",
      "\u001b[0;32m<ipython-input-16-6a633f957d69>\u001b[0m in \u001b[0;36mapply_jobs_in_current_page\u001b[0;34m(button_list)\u001b[0m\n\u001b[1;32m      7\u001b[0m \u001b[0;32mdef\u001b[0m \u001b[0mapply_jobs_in_current_page\u001b[0m\u001b[0;34m(\u001b[0m\u001b[0mbutton_list\u001b[0m\u001b[0;34m)\u001b[0m\u001b[0;34m:\u001b[0m\u001b[0;34m\u001b[0m\u001b[0;34m\u001b[0m\u001b[0m\n\u001b[1;32m      8\u001b[0m     \u001b[0;32mfor\u001b[0m \u001b[0mbutton\u001b[0m \u001b[0;32min\u001b[0m \u001b[0mbutton_list\u001b[0m\u001b[0;34m:\u001b[0m\u001b[0;34m\u001b[0m\u001b[0;34m\u001b[0m\u001b[0m\n\u001b[0;32m----> 9\u001b[0;31m         \u001b[0mtime\u001b[0m\u001b[0;34m.\u001b[0m\u001b[0msleep\u001b[0m\u001b[0;34m(\u001b[0m\u001b[0;36m3\u001b[0m\u001b[0;34m)\u001b[0m\u001b[0;34m\u001b[0m\u001b[0;34m\u001b[0m\u001b[0m\n\u001b[0m\u001b[1;32m     10\u001b[0m         \u001b[0mbutton\u001b[0m\u001b[0;34m.\u001b[0m\u001b[0mclick\u001b[0m\u001b[0;34m(\u001b[0m\u001b[0;34m)\u001b[0m\u001b[0;34m\u001b[0m\u001b[0;34m\u001b[0m\u001b[0m\n\u001b[1;32m     11\u001b[0m \u001b[0;34m\u001b[0m\u001b[0m\n",
      "\u001b[0;31mKeyboardInterrupt\u001b[0m: "
     ]
    }
   ],
   "source": [
    "driver = webdriver.Chrome('/Users/faizyy/Documents/Uitilities/chromedriver')\n",
    "\n",
    "# Function to apply to jobs in current page. button_list is all the 'Apply' buttons in the page.\n",
    "def apply_jobs_in_current_page(button_list):\n",
    "    for button in button_list:\n",
    "        time.sleep(3)\n",
    "        button.click()\n",
    "\n",
    "        time.sleep(1)\n",
    "        textBox = driver.find_element_by_name('userNote')\n",
    "        textBox.send_keys('Hi, I am xyz, I would like to be a part of your organization. Kindly reach out to me if my profile matches your requirements.')\n",
    "    \n",
    "        sendApplication = driver.find_element_by_xpath('//button[text()=\"Send application\"]')\n",
    "        sendApplication.click()\n",
    "        time.sleep(1)\n",
    "        \n",
    "# Goto the webste url and login.\n",
    "driver.get('https://angel.co/')\n",
    "login_link = driver.find_element_by_link_text('Log In')\n",
    "login_link.click()\n",
    "time.sleep(1)\n",
    "\n",
    "username_field = driver.find_element_by_id('user_email')\n",
    "username_field.send_keys('yourEmail@mail.com') # Use your own email address here.\n",
    "\n",
    "password_field = driver.find_element_by_id('user_password')\n",
    "password_field.send_keys('yourPassword') # Use password corresponding to your account.\n",
    "\n",
    "login_button = driver.find_element_by_name('commit')\n",
    "login_button.click()\n",
    "time.sleep(1)\n",
    "\n",
    "# Every iteration applies to jobs in newly loaded page.\n",
    "while True:\n",
    "    # Buttons that are newly loaded as an effect of scrolling.\n",
    "    applyButtons = driver.find_elements_by_xpath('//button[text()=\"Apply\"]')\n",
    "\n",
    "    apply_jobs_in_current_page(applyButtons)\n",
    "    time.sleep(1)    \n",
    "\n",
    "    \n",
    "time.sleep(7)\n",
    "driver.close()"
   ]
  },
  {
   "cell_type": "code",
   "execution_count": null,
   "metadata": {},
   "outputs": [],
   "source": []
  }
 ],
 "metadata": {
  "kernelspec": {
   "display_name": "Python 3",
   "language": "python",
   "name": "python3"
  },
  "language_info": {
   "codemirror_mode": {
    "name": "ipython",
    "version": 3
   },
   "file_extension": ".py",
   "mimetype": "text/x-python",
   "name": "python",
   "nbconvert_exporter": "python",
   "pygments_lexer": "ipython3",
   "version": "3.7.4"
  }
 },
 "nbformat": 4,
 "nbformat_minor": 2
}
